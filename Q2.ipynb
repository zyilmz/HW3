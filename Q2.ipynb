{
 "cells": [
  {
   "cell_type": "code",
   "execution_count": 111,
   "metadata": {
    "collapsed": true
   },
   "outputs": [],
   "source": [
    "import pandas as pd \n",
    "import numpy as np\n",
    "import os \n",
    "import time\n",
    "import matplotlib.pyplot as plt\n",
    "from sklearn import linear_model\n",
    "from sklearn.metrics import mean_squared_error, r2_score"
   ]
  },
  {
   "cell_type": "code",
   "execution_count": 42,
   "metadata": {},
   "outputs": [
    {
     "name": "stdout",
     "output_type": "stream",
     "text": [
      "(11039, 7)\n",
      "0        0.000000e+00\n",
      "1        2.250000e+06\n",
      "2        1.500000e+06\n",
      "3        7.500000e+05\n",
      "4        3.000000e+06\n",
      "5        7.500000e+05\n",
      "6        7.500000e+05\n",
      "7        3.000000e+06\n",
      "8        1.125000e+07\n",
      "9        3.750000e+06\n",
      "10       0.000000e+00\n",
      "11       7.500000e+05\n",
      "12       2.250000e+06\n",
      "13       3.750000e+06\n",
      "14       3.750000e+06\n",
      "15       4.500000e+06\n",
      "16       1.231000e+11\n",
      "17       1.850000e+10\n",
      "18       1.110000e+10\n",
      "19       7.400000e+09\n",
      "20       3.700000e+09\n",
      "21       0.000000e+00\n",
      "22       1.110000e+10\n",
      "23       0.000000e+00\n",
      "24       1.110000e+10\n",
      "25       7.400000e+09\n",
      "26       1.110000e+10\n",
      "27       1.110000e+10\n",
      "28       0.000000e+00\n",
      "29       3.700000e+09\n",
      "             ...     \n",
      "11004    3.954000e+16\n",
      "11005    8.940000e+15\n",
      "11006    2.691000e+15\n",
      "11007    5.132000e+16\n",
      "11008    7.087000e+11\n",
      "11009    1.019600e+12\n",
      "11010    4.708000e+15\n",
      "11015    4.568900e+04\n",
      "11016    4.308000e+15\n",
      "11017    2.319000e+16\n",
      "11018    2.959000e+16\n",
      "11019    4.421000e+16\n",
      "11020    2.397000e+16\n",
      "11021    4.800000e+01\n",
      "11022    2.763800e+04\n",
      "11023    4.587000e+04\n",
      "11024    2.849000e+16\n",
      "11025    6.288000e+16\n",
      "11026    2.983000e+16\n",
      "11027    3.724000e+15\n",
      "11028    3.403000e+16\n",
      "11029    3.261000e+11\n",
      "11030    4.649000e+16\n",
      "11031    5.973000e+16\n",
      "11032    2.955000e+10\n",
      "11034    4.361000e+04\n",
      "11035    2.737000e+11\n",
      "11036    2.585000e+16\n",
      "11037    8.101000e+15\n",
      "11038    1.236000e+16\n",
      "Name: Volume, Length: 11032, dtype: float64\n"
     ]
    }
   ],
   "source": [
    "os.listdir()\n",
    "data=pd.read_csv(\"usdtrytrading.txt\",sep=\"\\t\")\n",
    "print(data.shape)\n",
    "data=data.dropna()\n",
    "# data=data[data.Volume>0]\n",
    "print(data.iloc[:,6])"
   ]
  },
  {
   "cell_type": "code",
   "execution_count": 50,
   "metadata": {},
   "outputs": [],
   "source": [
    "def replace_with_LWMA(data):\n",
    "    newData=data.copy()\n",
    "    for i in range(data.shape[0]-60):\n",
    "#     for i in range(100):\n",
    "        for j in range(5):\n",
    "            window=data.iloc[i:i+60,j+2]\n",
    "            weight=data.iloc[i:i+60,6]\n",
    "            weight=weight/np.sum(weight)\n",
    "            newData.iloc[i+60,j+2]=np.sum(weight*window)\n",
    "            \n",
    "#         newData['Open']=data['Open'].rolling(window=60).mean()\n",
    "#         newData['Close']=data['Close'].rolling(window=60).mean()\n",
    "#         newData['High']=data['High'].rolling(window=60).mean()\n",
    "#         newData['Low']=data['Low'].rolling(window=60).mean()\n",
    "#         newData['Volume']=data['Volume'].rolling(window=60).mean()\n",
    "#         newData.dropna(inplace=True)\n",
    "    newData.shape\n",
    "    return newData"
   ]
  },
  {
   "cell_type": "code",
   "execution_count": null,
   "metadata": {
    "collapsed": true
   },
   "outputs": [],
   "source": [
    "def replace_with_MA(data):\n",
    "    newData=data.copy()\n",
    "    newData['Open']=data['Open'].rolling(window=60).mean()\n",
    "    newData['Close']=data['Close'].rolling(window=60).mean()\n",
    "    newData['High']=data['High'].rolling(window=60).mean()\n",
    "    newData['Low']=data['Low'].rolling(window=60).mean()\n",
    "    newData['Volume']=data['Volume'].rolling(window=60).mean()\n",
    "    newData.dropna(inplace=True)\n",
    "    newData.shape\n",
    "    return newData"
   ]
  },
  {
   "cell_type": "code",
   "execution_count": 94,
   "metadata": {},
   "outputs": [],
   "source": [
    "def replace_with_random_sample(data):\n",
    "    newData=data.copy()\n",
    "    start_ind=0;\n",
    "    while start_ind<data.shape[0]-60 :\n",
    "        a=start_ind+np.random.randint(60)\n",
    "        for j in range(60):\n",
    "            newData.iloc[start_ind+j]=newData.iloc[a]\n",
    "        start_ind=start_ind+60\n",
    "#         newData['Open']=data['Open'].rolling(window=60).mean()\n",
    "#         newData['Close']=data['Close'].rolling(window=60).mean()\n",
    "#         newData['High']=data['High'].rolling(window=60).mean()\n",
    "#         newData['Low']=data['Low'].rolling(window=60).mean()\n",
    "#         newData['Volume']=data['Volume'].rolling(window=60).mean()\n",
    "    newData.dropna(inplace=True)\n",
    "    newData.shape\n",
    "    return newData"
   ]
  },
  {
   "cell_type": "code",
   "execution_count": 53,
   "metadata": {},
   "outputs": [
    {
     "name": "stdout",
     "output_type": "stream",
     "text": [
      "(11032, 7)\n"
     ]
    },
    {
     "data": {
      "text/html": [
       "<div>\n",
       "<style>\n",
       "    .dataframe thead tr:only-child th {\n",
       "        text-align: right;\n",
       "    }\n",
       "\n",
       "    .dataframe thead th {\n",
       "        text-align: left;\n",
       "    }\n",
       "\n",
       "    .dataframe tbody tr th {\n",
       "        vertical-align: top;\n",
       "    }\n",
       "</style>\n",
       "<table border=\"1\" class=\"dataframe\">\n",
       "  <thead>\n",
       "    <tr style=\"text-align: right;\">\n",
       "      <th></th>\n",
       "      <th>Day</th>\n",
       "      <th>Time</th>\n",
       "      <th>Open</th>\n",
       "      <th>High</th>\n",
       "      <th>Low</th>\n",
       "      <th>Close</th>\n",
       "      <th>Volume</th>\n",
       "    </tr>\n",
       "  </thead>\n",
       "  <tbody>\n",
       "    <tr>\n",
       "      <th>11034</th>\n",
       "      <td>6.05.2019</td>\n",
       "      <td>1554</td>\n",
       "      <td>6.018889</td>\n",
       "      <td>6.019923</td>\n",
       "      <td>6.018335</td>\n",
       "      <td>6.019303</td>\n",
       "      <td>4.129603e+16</td>\n",
       "    </tr>\n",
       "    <tr>\n",
       "      <th>11035</th>\n",
       "      <td>6.05.2019</td>\n",
       "      <td>1555</td>\n",
       "      <td>6.018889</td>\n",
       "      <td>6.019923</td>\n",
       "      <td>6.018335</td>\n",
       "      <td>6.019303</td>\n",
       "      <td>4.129604e+16</td>\n",
       "    </tr>\n",
       "    <tr>\n",
       "      <th>11036</th>\n",
       "      <td>6.05.2019</td>\n",
       "      <td>1556</td>\n",
       "      <td>6.018861</td>\n",
       "      <td>6.019924</td>\n",
       "      <td>6.018371</td>\n",
       "      <td>6.019385</td>\n",
       "      <td>4.120898e+16</td>\n",
       "    </tr>\n",
       "    <tr>\n",
       "      <th>11037</th>\n",
       "      <td>6.05.2019</td>\n",
       "      <td>1557</td>\n",
       "      <td>6.019022</td>\n",
       "      <td>6.020057</td>\n",
       "      <td>6.018514</td>\n",
       "      <td>6.019511</td>\n",
       "      <td>4.115137e+16</td>\n",
       "    </tr>\n",
       "    <tr>\n",
       "      <th>11038</th>\n",
       "      <td>6.05.2019</td>\n",
       "      <td>1558</td>\n",
       "      <td>6.019059</td>\n",
       "      <td>6.020085</td>\n",
       "      <td>6.018510</td>\n",
       "      <td>6.019502</td>\n",
       "      <td>4.086056e+16</td>\n",
       "    </tr>\n",
       "  </tbody>\n",
       "</table>\n",
       "</div>"
      ],
      "text/plain": [
       "             Day  Time      Open      High       Low     Close        Volume\n",
       "11034  6.05.2019  1554  6.018889  6.019923  6.018335  6.019303  4.129603e+16\n",
       "11035  6.05.2019  1555  6.018889  6.019923  6.018335  6.019303  4.129604e+16\n",
       "11036  6.05.2019  1556  6.018861  6.019924  6.018371  6.019385  4.120898e+16\n",
       "11037  6.05.2019  1557  6.019022  6.020057  6.018514  6.019511  4.115137e+16\n",
       "11038  6.05.2019  1558  6.019059  6.020085  6.018510  6.019502  4.086056e+16"
      ]
     },
     "execution_count": 53,
     "metadata": {},
     "output_type": "execute_result"
    }
   ],
   "source": [
    "LWMAData=replace_with_LWMA(data)\n",
    "print(LWMAData.shape)\n",
    "LWMAData.tail()"
   ]
  },
  {
   "cell_type": "code",
   "execution_count": 95,
   "metadata": {},
   "outputs": [
    {
     "name": "stdout",
     "output_type": "stream",
     "text": [
      "11\n"
     ]
    },
    {
     "data": {
      "text/html": [
       "<div>\n",
       "<style>\n",
       "    .dataframe thead tr:only-child th {\n",
       "        text-align: right;\n",
       "    }\n",
       "\n",
       "    .dataframe thead th {\n",
       "        text-align: left;\n",
       "    }\n",
       "\n",
       "    .dataframe tbody tr th {\n",
       "        vertical-align: top;\n",
       "    }\n",
       "</style>\n",
       "<table border=\"1\" class=\"dataframe\">\n",
       "  <thead>\n",
       "    <tr style=\"text-align: right;\">\n",
       "      <th></th>\n",
       "      <th>Day</th>\n",
       "      <th>Time</th>\n",
       "      <th>Open</th>\n",
       "      <th>High</th>\n",
       "      <th>Low</th>\n",
       "      <th>Close</th>\n",
       "      <th>Volume</th>\n",
       "    </tr>\n",
       "  </thead>\n",
       "  <tbody>\n",
       "    <tr>\n",
       "      <th>0</th>\n",
       "      <td>29.04.2019</td>\n",
       "      <td>57</td>\n",
       "      <td>5.9429</td>\n",
       "      <td>5.9429</td>\n",
       "      <td>5.9429</td>\n",
       "      <td>5.9429</td>\n",
       "      <td>750000.0</td>\n",
       "    </tr>\n",
       "    <tr>\n",
       "      <th>1</th>\n",
       "      <td>29.04.2019</td>\n",
       "      <td>57</td>\n",
       "      <td>5.9429</td>\n",
       "      <td>5.9429</td>\n",
       "      <td>5.9429</td>\n",
       "      <td>5.9429</td>\n",
       "      <td>750000.0</td>\n",
       "    </tr>\n",
       "    <tr>\n",
       "      <th>2</th>\n",
       "      <td>29.04.2019</td>\n",
       "      <td>57</td>\n",
       "      <td>5.9429</td>\n",
       "      <td>5.9429</td>\n",
       "      <td>5.9429</td>\n",
       "      <td>5.9429</td>\n",
       "      <td>750000.0</td>\n",
       "    </tr>\n",
       "    <tr>\n",
       "      <th>3</th>\n",
       "      <td>29.04.2019</td>\n",
       "      <td>57</td>\n",
       "      <td>5.9429</td>\n",
       "      <td>5.9429</td>\n",
       "      <td>5.9429</td>\n",
       "      <td>5.9429</td>\n",
       "      <td>750000.0</td>\n",
       "    </tr>\n",
       "    <tr>\n",
       "      <th>4</th>\n",
       "      <td>29.04.2019</td>\n",
       "      <td>57</td>\n",
       "      <td>5.9429</td>\n",
       "      <td>5.9429</td>\n",
       "      <td>5.9429</td>\n",
       "      <td>5.9429</td>\n",
       "      <td>750000.0</td>\n",
       "    </tr>\n",
       "  </tbody>\n",
       "</table>\n",
       "</div>"
      ],
      "text/plain": [
       "          Day  Time    Open    High     Low   Close    Volume\n",
       "0  29.04.2019    57  5.9429  5.9429  5.9429  5.9429  750000.0\n",
       "1  29.04.2019    57  5.9429  5.9429  5.9429  5.9429  750000.0\n",
       "2  29.04.2019    57  5.9429  5.9429  5.9429  5.9429  750000.0\n",
       "3  29.04.2019    57  5.9429  5.9429  5.9429  5.9429  750000.0\n",
       "4  29.04.2019    57  5.9429  5.9429  5.9429  5.9429  750000.0"
      ]
     },
     "execution_count": 95,
     "metadata": {},
     "output_type": "execute_result"
    }
   ],
   "source": [
    "a=np.random.randint(60)\n",
    "print(a)\n",
    "RSData=replace_with_random_sample(data)\n",
    "RSData.head()"
   ]
  },
  {
   "cell_type": "code",
   "execution_count": 101,
   "metadata": {
    "collapsed": true
   },
   "outputs": [],
   "source": [
    "MAData=replace_with_MA(data)\n",
    "LWMAData=replace_with_LWMA(data)\n",
    "RSData=replace_with_random_sample(data)"
   ]
  },
  {
   "cell_type": "code",
   "execution_count": 102,
   "metadata": {},
   "outputs": [
    {
     "name": "stdout",
     "output_type": "stream",
     "text": [
      "(11032, 7)\n",
      "(11032, 7)\n",
      "(10973, 7)\n"
     ]
    }
   ],
   "source": [
    "print(RSData.shape)\n",
    "print(LWMAData.shape)\n",
    "print(MAData.shape)"
   ]
  },
  {
   "cell_type": "code",
   "execution_count": 115,
   "metadata": {
    "collapsed": true
   },
   "outputs": [],
   "source": [
    "def plot_data(data,running_average_window,tit):\n",
    "    \n",
    "    fig= plt.figure()\n",
    "    rolling_mean = data.rolling(window=running_average_window).mean()\n",
    "    rolling_mean2 = data.rolling(window=running_average_window).std()\n",
    "    \n",
    "#     print(rolling_mean.shape)\n",
    "    plt.plot(data, label=tit)\n",
    "#     plt.plot(rolling_mean, label=str(running_average_window)+' Sample Average of Mean', color='orange')\n",
    "#     plt.plot(rolling_mean2, label=str(running_average_window)+' Minutes Average of Std', color='orange')\n",
    "#     plt.plot(data, rolling_mean2, label='AMD 50 Day SMA', color='magenta')\n",
    "    plt.legend(loc='upper left')\n",
    "    plt.title(tit)\n",
    "    plt.show()\n",
    "    \n",
    "    fig.savefig(tit+\".png\")"
   ]
  },
  {
   "cell_type": "code",
   "execution_count": 116,
   "metadata": {},
   "outputs": [
    {
     "data": {
      "image/png": "[encoded data removed]",
      "text/plain": [
       "<matplotlib.figure.Figure at 0x1669c74c898>"
      ]
     },
     "metadata": {},
     "output_type": "display_data"
    },
    {
     "data": {
      "image/png": "[encoded data removed]",
      "text/plain": [
       "<matplotlib.figure.Figure at 0x1669c74cac8>"
      ]
     },
     "metadata": {},
     "output_type": "display_data"
    },
    {
     "data": {
      "image/png": "[encoded data removed]",
      "text/plain": [
       "<matplotlib.figure.Figure at 0x1669c776780>"
      ]
     },
     "metadata": {},
     "output_type": "display_data"
    }
   ],
   "source": [
    "plot_data(RSData['Close'],60,'random sample')\n",
    "plot_data(MAData['Close'],60,'moving average')\n",
    "plot_data(LWMAData['Close'],60,' linearly weighted moving average')"
   ]
  },
  {
   "cell_type": "code",
   "execution_count": 112,
   "metadata": {
    "collapsed": true
   },
   "outputs": [],
   "source": [
    "import sklearn\n",
    "def regressionResult(data):\n",
    "    train_features=data.iloc[:-2,2:]\n",
    "    train_labels=data.iloc[2:,5]\n",
    "    test_features=data.iloc[-2:,2:]\n",
    "    \n",
    "    regr = linear_model.LinearRegression()\n",
    "    regr.fit(train_features.fillna(0),train_labels)\n",
    "    y_pred = regr.predict(train_features.fillna(0))\n",
    "    MSE=sklearn.metrics.mean_squared_error(train_labels, y_pred)\n",
    "    print(\"MSE for OLS is \",str(MSE))\n",
    "\n",
    "    y_pred=regr.predict(test_features)\n",
    "    print(\"Estimations for 15.59 and 16.00 are\",y_pred)\n",
    "    \n",
    "    reg = linear_model.Ridge(alpha=.5)\n",
    "    reg.fit(train_features.fillna(0), train_labels)\n",
    "\n",
    "    # Make predictions using the testing set\n",
    "    y_pred = reg.predict(train_features.fillna(0))\n",
    "    MSE=sklearn.metrics.mean_squared_error(train_labels, y_pred)\n",
    "    print(\"MSE for Ridge is \",str(MSE))\n",
    "\n",
    "    y_pred=reg.predict(test_features)\n",
    "    print(\"Estimations for 15.59 and 16.00 are\",y_pred)\n",
    "    #     return train_features,train_labels,test_features"
   ]
  },
  {
   "cell_type": "code",
   "execution_count": 114,
   "metadata": {},
   "outputs": [
    {
     "name": "stdout",
     "output_type": "stream",
     "text": [
      "MAData\n",
      "MSE for OLS is  8.608487867936753e-05\n",
      "Estimations for 15.59 and 16.00 are [6.00546007 6.00547892]\n",
      "MSE for Ridge is  1.2209575133841262e-06\n",
      "Estimations for 15.59 and 16.00 are [6.01762737 6.01763729]\n",
      "--------\n",
      "LWMAData\n",
      "MSE for OLS is  255.19981361896953\n",
      "Estimations for 15.59 and 16.00 are [-81.15537719 -80.50975272]\n",
      "MSE for Ridge is  0.012934026923754983\n",
      "Estimations for 15.59 and 16.00 are [6.02010684 6.02010259]\n",
      "--------\n",
      "RSData\n",
      "MSE for OLS is  0.00012658860312966507\n",
      "Estimations for 15.59 and 16.00 are [5.9696321 5.9739502]\n",
      "MSE for Ridge is  1.9189436285304775e-06\n",
      "Estimations for 15.59 and 16.00 are [6.01644092 6.01513976]\n",
      "--------\n"
     ]
    }
   ],
   "source": [
    "print(\"MAData\")\n",
    "regressionResult(MAData)\n",
    "print(\"--------\")\n",
    "\n",
    "print(\"LWMAData\")\n",
    "regressionResult(LWMAData)\n",
    "print(\"--------\")\n",
    "\n",
    "print(\"RSData\")\n",
    "regressionResult(RSData)\n",
    "print(\"--------\")"
   ]
  }
 ],
 "metadata": {
  "kernelspec": {
   "display_name": "Python 3",
   "language": "python",
   "name": "python3"
  },
  "language_info": {
   "codemirror_mode": {
    "name": "ipython",
    "version": 3
   },
   "file_extension": ".py",
   "mimetype": "text/x-python",
   "name": "python",
   "nbconvert_exporter": "python",
   "pygments_lexer": "ipython3",
   "version": "3.6.2"
  }
 },
 "nbformat": 4,
 "nbformat_minor": 2
}
